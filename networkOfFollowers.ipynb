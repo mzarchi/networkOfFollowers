{
 "cells": [
  {
   "cell_type": "code",
   "execution_count": null,
   "id": "3b1016b2",
   "metadata": {},
   "outputs": [],
   "source": [
    "from community import community_louvain\n",
    "import networkx as nx\n",
    "import config as cf\n",
    "import pandas as pd\n",
    "import tweepy"
   ]
  },
  {
   "cell_type": "code",
   "execution_count": null,
   "id": "ef1a43c2",
   "metadata": {},
   "outputs": [],
   "source": [
    "auth = tweepy.OAuthHandler(cf.consumer_key, cf.consumer_secret)\n",
    "auth.set_access_token(cf.access_token, cf.access_token_secret)\n",
    "api = tweepy.API(auth, wait_on_rate_limit=True)"
   ]
  },
  {
   "cell_type": "code",
   "execution_count": null,
   "id": "370de3e1",
   "metadata": {},
   "outputs": [],
   "source": [
    "user_data = api.get_user(screen_name = 'tiivik')"
   ]
  },
  {
   "cell_type": "code",
   "execution_count": null,
   "id": "6221a734",
   "metadata": {},
   "outputs": [],
   "source": [
    "user_list = [user_data.id]\n",
    "follower_list = []\n",
    "for user in user_list:\n",
    "    followers = []\n",
    "    try:\n",
    "        for page in tweepy.Cursor(api.get_follower_ids, user_id=user).pages():\n",
    "            followers.extend(page)\n",
    "            print(len(followers))\n",
    "    except tweepy.errors.TweepyException:\n",
    "        print(\"error\")\n",
    "        continue\n",
    "    follower_list.append(followers)"
   ]
  },
  {
   "cell_type": "code",
   "execution_count": null,
   "id": "53d87ce2",
   "metadata": {},
   "outputs": [],
   "source": [
    "df = pd.DataFrame(columns=['source','target']) # Empty DataFrame\n",
    "df['target'] = follower_list[0] # Set the list of followers as the target column\n",
    "df['source'] = user_data.id # Set my user ID as the source "
   ]
  },
  {
   "cell_type": "code",
   "execution_count": null,
   "id": "2732191c",
   "metadata": {},
   "outputs": [],
   "source": [
    "G = nx.from_pandas_edgelist(df, 'source', 'target') #Turn df into graph\n",
    "pos = nx.spring_layout(G) #specify layout for visual"
   ]
  },
  {
   "cell_type": "code",
   "execution_count": null,
   "id": "1e9e0d1d",
   "metadata": {},
   "outputs": [],
   "source": [
    "import matplotlib.pyplot as plt\n",
    "f, ax = plt.subplots(figsize=(10, 10))\n",
    "plt.style.use('ggplot')\n",
    "nodes = nx.draw_networkx_nodes(G, pos,\n",
    "                               alpha=0.8)\n",
    "nodes.set_edgecolor('k')\n",
    "nx.draw_networkx_labels(G, pos, font_size=8)\n",
    "nx.draw_networkx_edges(G, pos, width=1.0, alpha=0.2);"
   ]
  },
  {
   "cell_type": "code",
   "execution_count": null,
   "id": "916cd02f",
   "metadata": {},
   "outputs": [],
   "source": [
    "user_list = list(df['target']) #Use the list of followers we extracted in the code above i.e. my 450 followers\n",
    "for userID in user_list:\n",
    "    print(userID)\n",
    "    followers = []\n",
    "    follower_list = []\n",
    "\n",
    "    # fetching the user\n",
    "    user = api.get_user(screen_name='tiivik')\n",
    "\n",
    "    # fetching the followers_count\n",
    "    followers_count = user.followers_count\n",
    "\n",
    "    try:\n",
    "        for page in tweepy.Cursor(api.get_follower_ids, user_id=userID).pages():\n",
    "            followers.extend(page)\n",
    "            print(len(followers))\n",
    "            if followers_count >= 5000: #Only take first 5000 followers\n",
    "                break\n",
    "    except tweepy.errors.TweepyException:\n",
    "        print(\"error\")\n",
    "        continue\n",
    "    follower_list.append(followers)\n",
    "    temp = pd.DataFrame(columns=['source', 'target'])\n",
    "    temp['target'] = follower_list[0]\n",
    "    temp['source'] = userID\n",
    "    df = df.append(temp)\n",
    "    df.to_csv(\"networkOfFollowers.csv\")"
   ]
  },
  {
   "cell_type": "code",
   "execution_count": null,
   "id": "7186f930",
   "metadata": {},
   "outputs": [],
   "source": [
    "df = pd.read_csv(\"networkOfFollowers.csv\") #Read into a df\n",
    "G = nx.from_pandas_edgelist(df, 'source', 'target')"
   ]
  },
  {
   "cell_type": "code",
   "execution_count": null,
   "id": "e8931df1",
   "metadata": {},
   "outputs": [],
   "source": [
    "G.number_of_nodes() #Find the total number of nodes in this graph"
   ]
  },
  {
   "cell_type": "code",
   "execution_count": null,
   "id": "fabe2ae5",
   "metadata": {},
   "outputs": [],
   "source": [
    "G_sorted = pd.DataFrame(sorted(G.degree, key=lambda x: x[1], reverse=True))\n",
    "G_sorted.columns = ['nconst','degree']\n",
    "G_sorted.head()"
   ]
  },
  {
   "cell_type": "code",
   "execution_count": null,
   "id": "2153814e",
   "metadata": {},
   "outputs": [],
   "source": [
    "G_tmp = nx.k_core(G, 10) #Exclude nodes with degree less than 10"
   ]
  },
  {
   "cell_type": "code",
   "execution_count": null,
   "id": "d1e139c8",
   "metadata": {},
   "outputs": [],
   "source": [
    "partition = community_louvain.best_partition(G_tmp)\n",
    "#Turn partition into dataframe\n",
    "partition1 = pd.DataFrame([partition]).T\n",
    "partition1 = partition1.reset_index()\n",
    "partition1.columns = ['names','group']"
   ]
  },
  {
   "cell_type": "code",
   "execution_count": null,
   "id": "f4cfebad",
   "metadata": {},
   "outputs": [],
   "source": [
    "G_sorted = pd.DataFrame(sorted(G_tmp.degree, key=lambda x: x[1], reverse=True))\n",
    "G_sorted.columns = ['names','degree']\n",
    "G_sorted.head()\n",
    "dc = G_sorted"
   ]
  },
  {
   "cell_type": "code",
   "execution_count": null,
   "id": "6f91540a",
   "metadata": {},
   "outputs": [],
   "source": [
    "combined = pd.merge(dc,partition1, how='left', left_on=\"names\",right_on=\"names\")"
   ]
  },
  {
   "cell_type": "code",
   "execution_count": null,
   "id": "fd8b761e",
   "metadata": {},
   "outputs": [],
   "source": [
    "pos = nx.spring_layout(G_tmp)\n",
    "f, ax = plt.subplots(figsize=(10, 10))\n",
    "plt.style.use('ggplot')\n",
    "#cc = nx.betweenness_centrality(G2)\n",
    "nodes = nx.draw_networkx_nodes(G_tmp, pos,\n",
    "                               cmap=plt.cm.Set1,\n",
    "                               node_color=combined['group'],\n",
    "                               alpha=0.8)\n",
    "nodes.set_edgecolor('k')\n",
    "nx.draw_networkx_labels(G_tmp, pos, font_size=8)\n",
    "nx.draw_networkx_edges(G_tmp, pos, width=1.0, alpha=0.2)\n",
    "plt.savefig('twitterFollowers.png')"
   ]
  },
  {
   "cell_type": "code",
   "execution_count": null,
   "id": "4c2224a8",
   "metadata": {},
   "outputs": [],
   "source": [
    "combined = combined.rename(columns={\"names\": \"Id\"}) # I've found Gephi really likes when your node column is called 'Id'\n",
    "edges = nx.to_pandas_edgelist(G_tmp)\n",
    "nodes = combined['Id']\n",
    "edges.to_csv(\"edges.csv\")\n",
    "combined.to_csv(\"nodes.csv\")"
   ]
  }
 ],
 "metadata": {
  "kernelspec": {
   "display_name": "Python 3 (ipykernel)",
   "language": "python",
   "name": "python3"
  },
  "language_info": {
   "codemirror_mode": {
    "name": "ipython",
    "version": 3
   },
   "file_extension": ".py",
   "mimetype": "text/x-python",
   "name": "python",
   "nbconvert_exporter": "python",
   "pygments_lexer": "ipython3",
   "version": "3.10.6"
  }
 },
 "nbformat": 4,
 "nbformat_minor": 5
}
